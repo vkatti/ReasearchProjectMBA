{
 "cells": [
  {
   "cell_type": "code",
   "execution_count": 1,
   "metadata": {},
   "outputs": [],
   "source": [
    "from selenium import webdriver\n",
    "from selenium.webdriver.common.by import By\n",
    "from selenium.webdriver.chrome.service import Service as ChromeService\n",
    "from webdriver_manager.chrome import ChromeDriverManager\n",
    "import time\n",
    "from pprint import pprint\n",
    "import pandas as pd"
   ]
  },
  {
   "cell_type": "code",
   "execution_count": 2,
   "metadata": {},
   "outputs": [
    {
     "name": "stdout",
     "output_type": "stream",
     "text": [
      "fetching data from url='https://www.carwale.com/used/'\n"
     ]
    },
    {
     "data": {
      "text/plain": [
       "['https://www.carwale.com/used-cars/delhi/',\n",
       " 'https://www.carwale.com/used/cars-in-mumbai/',\n",
       " 'https://www.carwale.com/used/cars-in-bangalore/',\n",
       " 'https://www.carwale.com/used-cars/chennai/',\n",
       " 'https://www.carwale.com/used-cars/hyderabad/',\n",
       " 'https://www.carwale.com/used/cars-in-kolkata/',\n",
       " 'https://www.carwale.com/used/cars-in-pune/',\n",
       " 'https://www.carwale.com/used/cars-in-ahmedabad/',\n",
       " 'https://www.carwale.com/used/cars-in-chandigarh/']"
      ]
     },
     "execution_count": 2,
     "metadata": {},
     "output_type": "execute_result"
    }
   ],
   "source": [
    "url     = 'https://www.carwale.com/used/'\n",
    "options = webdriver.ChromeOptions()\n",
    "options.headless = True\n",
    "driver = webdriver.Chrome(service = ChromeService(\n",
    "    ChromeDriverManager().install()), options = options)\n",
    "print(f\"fetching data from {url=}\")\n",
    "driver.get(url)\n",
    "\n",
    "cities     = []\n",
    "container  = driver.find_element(By.ID, 'usedCarsinMajorCities')\n",
    "all_cities = container.find_elements(By.CSS_SELECTOR, 'a')\n",
    "\n",
    "for city in all_cities: \n",
    "    cities.append(city.get_attribute('href'))\n",
    "cities"
   ]
  },
  {
   "cell_type": "code",
   "execution_count": 3,
   "metadata": {},
   "outputs": [],
   "source": [
    "driver.quit()"
   ]
  },
  {
   "cell_type": "code",
   "execution_count": 4,
   "metadata": {},
   "outputs": [
    {
     "data": {
      "text/html": [
       "<div>\n",
       "<style scoped>\n",
       "    .dataframe tbody tr th:only-of-type {\n",
       "        vertical-align: middle;\n",
       "    }\n",
       "\n",
       "    .dataframe tbody tr th {\n",
       "        vertical-align: top;\n",
       "    }\n",
       "\n",
       "    .dataframe thead th {\n",
       "        text-align: right;\n",
       "    }\n",
       "</style>\n",
       "<table border=\"1\" class=\"dataframe\">\n",
       "  <thead>\n",
       "    <tr style=\"text-align: right;\">\n",
       "      <th></th>\n",
       "      <th>RegionURL</th>\n",
       "    </tr>\n",
       "  </thead>\n",
       "  <tbody>\n",
       "    <tr>\n",
       "      <th>0</th>\n",
       "      <td>https://www.carwale.com/used-cars/delhi/</td>\n",
       "    </tr>\n",
       "    <tr>\n",
       "      <th>1</th>\n",
       "      <td>https://www.carwale.com/used/cars-in-mumbai/</td>\n",
       "    </tr>\n",
       "    <tr>\n",
       "      <th>2</th>\n",
       "      <td>https://www.carwale.com/used/cars-in-bangalore/</td>\n",
       "    </tr>\n",
       "    <tr>\n",
       "      <th>3</th>\n",
       "      <td>https://www.carwale.com/used-cars/chennai/</td>\n",
       "    </tr>\n",
       "    <tr>\n",
       "      <th>4</th>\n",
       "      <td>https://www.carwale.com/used-cars/hyderabad/</td>\n",
       "    </tr>\n",
       "    <tr>\n",
       "      <th>5</th>\n",
       "      <td>https://www.carwale.com/used/cars-in-kolkata/</td>\n",
       "    </tr>\n",
       "    <tr>\n",
       "      <th>6</th>\n",
       "      <td>https://www.carwale.com/used/cars-in-pune/</td>\n",
       "    </tr>\n",
       "    <tr>\n",
       "      <th>7</th>\n",
       "      <td>https://www.carwale.com/used/cars-in-ahmedabad/</td>\n",
       "    </tr>\n",
       "    <tr>\n",
       "      <th>8</th>\n",
       "      <td>https://www.carwale.com/used/cars-in-chandigarh/</td>\n",
       "    </tr>\n",
       "  </tbody>\n",
       "</table>\n",
       "</div>"
      ],
      "text/plain": [
       "                                          RegionURL\n",
       "0          https://www.carwale.com/used-cars/delhi/\n",
       "1      https://www.carwale.com/used/cars-in-mumbai/\n",
       "2   https://www.carwale.com/used/cars-in-bangalore/\n",
       "3        https://www.carwale.com/used-cars/chennai/\n",
       "4      https://www.carwale.com/used-cars/hyderabad/\n",
       "5     https://www.carwale.com/used/cars-in-kolkata/\n",
       "6        https://www.carwale.com/used/cars-in-pune/\n",
       "7   https://www.carwale.com/used/cars-in-ahmedabad/\n",
       "8  https://www.carwale.com/used/cars-in-chandigarh/"
      ]
     },
     "execution_count": 4,
     "metadata": {},
     "output_type": "execute_result"
    }
   ],
   "source": [
    "regions_carwale = pd.DataFrame({'RegionURL':cities})\n",
    "regions_carwale.to_pickle('regions_carwale.pkl')\n",
    "regions_carwale"
   ]
  }
 ],
 "metadata": {
  "kernelspec": {
   "display_name": "Python 3",
   "language": "python",
   "name": "python3"
  },
  "language_info": {
   "codemirror_mode": {
    "name": "ipython",
    "version": 3
   },
   "file_extension": ".py",
   "mimetype": "text/x-python",
   "name": "python",
   "nbconvert_exporter": "python",
   "pygments_lexer": "ipython3",
   "version": "3.12.0"
  }
 },
 "nbformat": 4,
 "nbformat_minor": 2
}
