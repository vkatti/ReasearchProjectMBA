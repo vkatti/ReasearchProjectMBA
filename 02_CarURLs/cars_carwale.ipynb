{
 "cells": [
  {
   "cell_type": "code",
   "execution_count": null,
   "metadata": {},
   "outputs": [],
   "source": [
    "from selenium import webdriver\n",
    "from selenium.webdriver.common.by import By\n",
    "from selenium.webdriver.chrome.service import Service as ChromeService\n",
    "from webdriver_manager.chrome import ChromeDriverManager\n",
    "import time\n",
    "from pprint import pprint\n",
    "import pandas as pd"
   ]
  },
  {
   "cell_type": "code",
   "execution_count": null,
   "metadata": {},
   "outputs": [],
   "source": [
    "regions = pd.read_pickle('regions_carwale.pkl')\n",
    "\n",
    "all_region_urls = list(regions.RegionURL)\n",
    "print(all_region_urls)\n"
   ]
  },
  {
   "cell_type": "code",
   "execution_count": null,
   "metadata": {},
   "outputs": [],
   "source": [
    "options = webdriver.ChromeOptions()\n",
    "options.headless = True\n",
    "driver = webdriver.Chrome(service = ChromeService(\n",
    "    ChromeDriverManager().install()), options = options)"
   ]
  },
  {
   "cell_type": "code",
   "execution_count": null,
   "metadata": {},
   "outputs": [],
   "source": [
    "carLinks   = []\n",
    "\n",
    "for url in all_region_urls: \n",
    "    retryCount = 3\n",
    "    options = webdriver.ChromeOptions()\n",
    "    options.headless = True\n",
    "    driver = webdriver.Chrome(service = ChromeService(\n",
    "        ChromeDriverManager().install()), options = options)\n",
    "    print(f\"fetching data from {url=}\")\n",
    "    driver.get(url+'page-51/')\n",
    "    print('waiting 2 seconds for browser to finish loading')\n",
    "    time.sleep(2)\n",
    "    last_height = driver.execute_script('return document.body.scrollHeight')\n",
    "    while True: \n",
    "        driver.execute_script('window.scrollTo(0, document.body.scrollHeight);')\n",
    "        print('waiting 2 seconds for car details to load after scroll')\n",
    "        time.sleep(5)\n",
    "        new_height = driver.execute_script('return document.body.scrollHeight')\n",
    "        print(f\"{new_height=} and {last_height=}\")\n",
    "        if new_height == last_height:\n",
    "            print(f\"{retryCount=}\")\n",
    "            retryCount=retryCount-1\n",
    "            if retryCount<1: \n",
    "                break\n",
    "        last_height = new_height\n",
    "\n",
    "    time.sleep(5)\n",
    "    cars = driver.find_elements(By.CSS_SELECTOR, 'a.o-brXWGL')\n",
    "    print(f\"No. of Cars: {len(cars)}\")\n",
    "    for car in cars: \n",
    "        carLinks.append(car.get_attribute('href'))\n",
    "    driver.quit()\n",
    "    print('waiting 10 seconds before next region starts')\n",
    "    time.sleep(10)"
   ]
  },
  {
   "cell_type": "code",
   "execution_count": null,
   "metadata": {},
   "outputs": [],
   "source": [
    "print(len(carLinks))"
   ]
  },
  {
   "cell_type": "code",
   "execution_count": null,
   "metadata": {},
   "outputs": [],
   "source": [
    "cars_carwale = pd.DataFrame({'carURLs':carLinks})\n",
    "cars_carwale.to_pickle('cars_carwale6.pkl')"
   ]
  },
  {
   "cell_type": "code",
   "execution_count": null,
   "metadata": {},
   "outputs": [],
   "source": [
    "cars_carwale.shape"
   ]
  },
  {
   "cell_type": "code",
   "execution_count": null,
   "metadata": {},
   "outputs": [],
   "source": [
    "pprint(cars_carwale)"
   ]
  }
 ],
 "metadata": {
  "kernelspec": {
   "display_name": "Python 3",
   "language": "python",
   "name": "python3"
  },
  "language_info": {
   "codemirror_mode": {
    "name": "ipython",
    "version": 3
   },
   "file_extension": ".py",
   "mimetype": "text/x-python",
   "name": "python",
   "nbconvert_exporter": "python",
   "pygments_lexer": "ipython3",
   "version": "3.12.0"
  }
 },
 "nbformat": 4,
 "nbformat_minor": 2
}
