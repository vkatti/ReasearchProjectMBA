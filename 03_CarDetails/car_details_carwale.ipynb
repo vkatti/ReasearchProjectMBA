{
 "cells": [
  {
   "cell_type": "code",
   "execution_count": 1,
   "metadata": {},
   "outputs": [],
   "source": [
    "from selenium import webdriver\n",
    "from selenium.webdriver.common.by import By\n",
    "from selenium.webdriver.chrome.service import Service as ChromeService\n",
    "from webdriver_manager.chrome import ChromeDriverManager\n",
    "import time\n",
    "from pprint import pprint\n",
    "import pandas as pd\n",
    "from bs4 import BeautifulSoup\n",
    "import requests\n",
    "import re\n",
    "import json\n",
    "\n",
    "pd.set_option('max_colwidth', 1000)"
   ]
  },
  {
   "cell_type": "code",
   "execution_count": 2,
   "metadata": {},
   "outputs": [],
   "source": [
    "options          = webdriver.ChromeOptions()\n",
    "options.headless = True\n"
   ]
  },
  {
   "cell_type": "code",
   "execution_count": null,
   "metadata": {},
   "outputs": [],
   "source": [
    "car_urls = pd.read_pickle(\"cars_carwale6.pkl\")\n",
    "print(car_urls.shape)\n",
    "car_urls.head()"
   ]
  },
  {
   "cell_type": "code",
   "execution_count": 4,
   "metadata": {},
   "outputs": [],
   "source": [
    "car_details = []"
   ]
  },
  {
   "cell_type": "code",
   "execution_count": null,
   "metadata": {},
   "outputs": [],
   "source": [
    "total = len(car_urls)\n",
    "print(f\"{total=}\")"
   ]
  },
  {
   "cell_type": "code",
   "execution_count": null,
   "metadata": {},
   "outputs": [],
   "source": [
    "for i in range(401,len(car_urls)): \n",
    "    url = car_urls['carURLs'][i]\n",
    "    # print(requests.head(url).status_code)\n",
    "    # if requests.head(url).status_code != 200: \n",
    "    #     continue\n",
    "    driver = webdriver.Chrome(options=options)\n",
    "    driver.get(url)\n",
    "    time.sleep(5)\n",
    "\n",
    "    soup    = BeautifulSoup(driver.page_source, 'html.parser')\n",
    "    scripts = soup.find_all('script')\n",
    "    driver.quit()\n",
    "\n",
    "    script_text = [script.text for script in scripts if 'window.__INITIAL_STATE__' in script.text][0]\n",
    "    pattern     = '{.*};'\n",
    "    json_text   = re.findall(pattern, script_text)[0][:-1]\n",
    "\n",
    "    #print(json_text)\n",
    "    json_data = json.loads(json_text)\n",
    "    if json_data.get('usedCarDetails', False):\n",
    "        make              = json_data['usedCarDetails']['carInfo']['data'].get('makeName','MISSING')\n",
    "        model             = json_data['usedCarDetails']['carInfo']['data'].get('modelName','MISSING')\n",
    "        variant           = json_data['usedCarDetails']['carInfo']['data'].get('versionName','MISSING')\n",
    "        year              = json_data['usedCarDetails']['carInfo']['data'].get('makeYear','MISSING')\n",
    "        transmission      = json_data['usedCarDetails']['carInfo']['data'].get('transmissionType','MISSING')\n",
    "        bodyType          = json.loads(json_data['metaKeyWords']['pageSchema']).get('bodyType','MISSING')\n",
    "        fuelType          = json_data['usedCarDetails']['carInfo']['data'].get('fuelName','MISSING')\n",
    "        ownerNumber       = json_data['usedCarDetails']['carInfo']['data'].get('noOfOwners','MISSING')\n",
    "        #odometerReading   = json.loads(json_data['metaKeyWords']['pageSchema']).get('mileageFromOdometer')[0].get('value','MISSING')\n",
    "        odometerReading   = json_data['usedCarDetails']['carInfo']['data'].get('kilometers','MISSING')\n",
    "        cityRto           = json_data['usedCarDetails']['carInfo']['data'].get('registrationNumber','MISSING')\n",
    "        listingPrice      = json_data['usedCarDetails']['carInfo']['data'].get('priceNumeric','MISSING')\n",
    "        fitnessUpto       = json_data['usedCarDetails']['carInfo']['data'].get('fitnessUpto','MISSING')\n",
    "        insuranceType     = json_data['usedCarDetails']['carInfo']['data'].get('insurance','MISSING')\n",
    "        duplicateKey      = json_data['usedCarDetails']['carInfo']['data'].get('duplicateKey','MISSING')\n",
    "        city              = json_data['usedCarDetails']['carInfo']['data'].get('cityName','MISSING')\n",
    "        registrationYear  = json_data['usedCarDetails']['carInfo']['data'].get('registrationDate','MISSING')\n",
    "        registrationMonth = json_data['usedCarDetails']['carInfo']['data'].get('registrationMonth','MISSING')\n",
    "        websiteUrl        = url\n",
    "\n",
    "        # print(f\"{make=}\")\n",
    "        # print(f\"{model=}\")\n",
    "        # print(f\"{variant=}\")\n",
    "        # print(f\"{year=}\")\n",
    "        # print(f\"{transmission=}\")\n",
    "        # print(f\"{bodyType=}\")\n",
    "        # print(f\"{fuelType=}\")\n",
    "        # print(f\"{ownerNumber=}\")\n",
    "        # print(f\"{odometerReading=}\")\n",
    "        # print(f\"{cityRto=}\")\n",
    "        # print(f\"{listingPrice=}\")\n",
    "        # print(f\"{fitnessUpto=}\")\n",
    "        # print(f\"{insuranceType=}\")\n",
    "        # print(f\"{duplicateKey=}\")\n",
    "        # print(f\"{city=}\")\n",
    "        # print(f\"{registrationYear=}\")\n",
    "        # print(f\"{registrationMonth=}\")\n",
    "        # print(f\"{websiteUrl=}\")\n",
    "\n",
    "        car_details.append([make,model,variant,year,transmission,bodyType,fuelType,ownerNumber,odometerReading,cityRto,listingPrice,fitnessUpto,insuranceType,duplicateKey,city,registrationYear,registrationMonth,websiteUrl])\n",
    "        print(f\"waiting 5 seconds before next car scan---------------------------------------------------{i:04}/{total}\")\n",
    "        time.sleep(1)\n",
    "        if i > 0 and (i%100 == 0 or i == len(car_urls)-1):\n",
    "            car_details_cars24 = pd.DataFrame(car_details, columns=['make','model','variant','year','transmission','bodyType','fuelType','ownerNumber','odometerReading','cityRto','listingPrice','fitnessUpto','insuranceType','duplicateKey','city','registrationYear','registrationMonth','websiteUrl'])\n",
    "            car_details_cars24.to_pickle(f\"car_details_carwale/06/car_details_carwale_{i}.pkl\")\n",
    "            print(f\"car_details_carwale_{i}.pkl saved successfully\")\n",
    "            car_details = []\n",
    "    else: continue"
   ]
  },
  {
   "cell_type": "code",
   "execution_count": null,
   "metadata": {},
   "outputs": [],
   "source": [
    "car_details_cars24 = pd.DataFrame(car_details, columns=['make','model','variant','year','transmission','bodyType','fuelType','ownerNumber','odometerReading','cityRto','listingPrice','fitnessUpto','insuranceType','duplicateKey','city','registrationYear','registrationMonth','websiteUrl'])\n",
    "car_details_cars24.to_pickle(f\"car_details_carwale/06/car_details_carwale_{i}.pkl\")\n",
    "print(f\"car_details_carwale_{i}.pkl saved successfully\")\n",
    "car_details = []"
   ]
  }
 ],
 "metadata": {
  "kernelspec": {
   "display_name": "Python 3",
   "language": "python",
   "name": "python3"
  },
  "language_info": {
   "codemirror_mode": {
    "name": "ipython",
    "version": 3
   },
   "file_extension": ".py",
   "mimetype": "text/x-python",
   "name": "python",
   "nbconvert_exporter": "python",
   "pygments_lexer": "ipython3",
   "version": "3.12.0"
  }
 },
 "nbformat": 4,
 "nbformat_minor": 2
}
