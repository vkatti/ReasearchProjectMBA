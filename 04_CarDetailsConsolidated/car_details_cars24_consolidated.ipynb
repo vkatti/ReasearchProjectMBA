{
 "cells": [
  {
   "cell_type": "code",
   "execution_count": 5,
   "metadata": {},
   "outputs": [],
   "source": [
    "import pandas as pd\n",
    "import glob"
   ]
  },
  {
   "cell_type": "code",
   "execution_count": 6,
   "metadata": {},
   "outputs": [
    {
     "data": {
      "text/plain": [
       "70"
      ]
     },
     "execution_count": 6,
     "metadata": {},
     "output_type": "execute_result"
    }
   ],
   "source": [
    "all_pkl_files = glob.glob(\"../03_CarDetails/car_details_cars24/*.pkl\")\n",
    "len(all_pkl_files)"
   ]
  },
  {
   "cell_type": "code",
   "execution_count": 7,
   "metadata": {},
   "outputs": [],
   "source": [
    "dataframes = [pd.read_pickle(x) for x in all_pkl_files]\n"
   ]
  },
  {
   "cell_type": "code",
   "execution_count": 8,
   "metadata": {},
   "outputs": [],
   "source": [
    "combined_cars24 = pd.concat(dataframes, ignore_index=True)"
   ]
  },
  {
   "cell_type": "code",
   "execution_count": 9,
   "metadata": {},
   "outputs": [
    {
     "data": {
      "text/plain": [
       "(6392, 18)"
      ]
     },
     "execution_count": 9,
     "metadata": {},
     "output_type": "execute_result"
    }
   ],
   "source": [
    "combined_cars24.shape"
   ]
  },
  {
   "cell_type": "code",
   "execution_count": 10,
   "metadata": {},
   "outputs": [
    {
     "name": "stdout",
     "output_type": "stream",
     "text": [
      "<class 'pandas.core.frame.DataFrame'>\n",
      "RangeIndex: 6392 entries, 0 to 6391\n",
      "Data columns (total 18 columns):\n",
      " #   Column             Non-Null Count  Dtype \n",
      "---  ------             --------------  ----- \n",
      " 0   make               6392 non-null   object\n",
      " 1   model              6392 non-null   object\n",
      " 2   variant            6392 non-null   object\n",
      " 3   year               6392 non-null   int64 \n",
      " 4   transmission       6392 non-null   object\n",
      " 5   bodyType           6392 non-null   object\n",
      " 6   fuelType           6392 non-null   object\n",
      " 7   ownerNumber        6392 non-null   int64 \n",
      " 8   odometerReading    6392 non-null   int64 \n",
      " 9   cityRto            6392 non-null   object\n",
      " 10  listingPrice       6392 non-null   int64 \n",
      " 11  fitnessUpto        6392 non-null   object\n",
      " 12  insuranceType      6392 non-null   object\n",
      " 13  duplicateKey       6392 non-null   object\n",
      " 14  city               6392 non-null   object\n",
      " 15  registrationYear   6392 non-null   object\n",
      " 16  registrationMonth  6392 non-null   int64 \n",
      " 17  websiteUrl         6392 non-null   object\n",
      "dtypes: int64(5), object(13)\n",
      "memory usage: 899.0+ KB\n"
     ]
    }
   ],
   "source": [
    "combined_cars24.info()"
   ]
  },
  {
   "cell_type": "code",
   "execution_count": 22,
   "metadata": {},
   "outputs": [],
   "source": [
    "combined_cars24.to_csv(\"cars24.csv\", index=False)"
   ]
  }
 ],
 "metadata": {
  "kernelspec": {
   "display_name": "Python 3",
   "language": "python",
   "name": "python3"
  },
  "language_info": {
   "codemirror_mode": {
    "name": "ipython",
    "version": 3
   },
   "file_extension": ".py",
   "mimetype": "text/x-python",
   "name": "python",
   "nbconvert_exporter": "python",
   "pygments_lexer": "ipython3",
   "version": "3.12.0"
  }
 },
 "nbformat": 4,
 "nbformat_minor": 2
}
