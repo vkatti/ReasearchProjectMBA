{
 "cells": [
  {
   "cell_type": "code",
   "execution_count": 5,
   "metadata": {},
   "outputs": [],
   "source": [
    "import pandas as pd\n",
    "import glob"
   ]
  },
  {
   "cell_type": "code",
   "execution_count": 6,
   "metadata": {},
   "outputs": [],
   "source": [
    "all_pkl_files = glob.glob(\"*/*.pkl\")"
   ]
  },
  {
   "cell_type": "code",
   "execution_count": 7,
   "metadata": {},
   "outputs": [],
   "source": [
    "dataframes = [pd.read_pickle(x) for x in all_pkl_files]\n"
   ]
  },
  {
   "cell_type": "code",
   "execution_count": 8,
   "metadata": {},
   "outputs": [],
   "source": [
    "combined_carwale = pd.concat(dataframes, ignore_index=True)"
   ]
  },
  {
   "cell_type": "code",
   "execution_count": 9,
   "metadata": {},
   "outputs": [
    {
     "data": {
      "text/plain": [
       "(4764, 18)"
      ]
     },
     "execution_count": 9,
     "metadata": {},
     "output_type": "execute_result"
    }
   ],
   "source": [
    "combined_carwale.shape"
   ]
  },
  {
   "cell_type": "code",
   "execution_count": 10,
   "metadata": {},
   "outputs": [
    {
     "name": "stdout",
     "output_type": "stream",
     "text": [
      "<class 'pandas.core.frame.DataFrame'>\n",
      "RangeIndex: 4764 entries, 0 to 4763\n",
      "Data columns (total 18 columns):\n",
      " #   Column             Non-Null Count  Dtype \n",
      "---  ------             --------------  ----- \n",
      " 0   make               4764 non-null   object\n",
      " 1   model              4764 non-null   object\n",
      " 2   variant            4764 non-null   object\n",
      " 3   year               4764 non-null   object\n",
      " 4   transmission       4764 non-null   object\n",
      " 5   bodyType           4764 non-null   object\n",
      " 6   fuelType           4764 non-null   object\n",
      " 7   ownerNumber        4764 non-null   object\n",
      " 8   odometerReading    4764 non-null   object\n",
      " 9   cityRto            4764 non-null   object\n",
      " 10  listingPrice       4764 non-null   object\n",
      " 11  fitnessUpto        4764 non-null   object\n",
      " 12  insuranceType      4764 non-null   object\n",
      " 13  duplicateKey       4764 non-null   object\n",
      " 14  city               4764 non-null   object\n",
      " 15  registrationYear   4764 non-null   object\n",
      " 16  registrationMonth  4764 non-null   object\n",
      " 17  websiteUrl         4764 non-null   object\n",
      "dtypes: object(18)\n",
      "memory usage: 670.1+ KB\n"
     ]
    }
   ],
   "source": [
    "combined_carwale.info()"
   ]
  },
  {
   "cell_type": "code",
   "execution_count": 11,
   "metadata": {},
   "outputs": [],
   "source": [
    "combined_carwale.to_csv(\"carwale.csv\", index=False)"
   ]
  }
 ],
 "metadata": {
  "kernelspec": {
   "display_name": "Python 3",
   "language": "python",
   "name": "python3"
  },
  "language_info": {
   "codemirror_mode": {
    "name": "ipython",
    "version": 3
   },
   "file_extension": ".py",
   "mimetype": "text/x-python",
   "name": "python",
   "nbconvert_exporter": "python",
   "pygments_lexer": "ipython3",
   "version": "3.12.0"
  }
 },
 "nbformat": 4,
 "nbformat_minor": 2
}
